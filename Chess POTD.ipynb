{
 "cells": [
  {
   "cell_type": "code",
   "execution_count": null,
   "id": "49edb89e",
   "metadata": {},
   "outputs": [],
   "source": [
    "import numpy as np\n",
    "\n",
    "def get_moves(m,n):\n",
    "    \n",
    "    #this gives us a 8x8 matrix where, for each position m,n the queen can be in the chessboard\n",
    "    #valid moves from that position will be 1, and the rest 0\n",
    "    \n",
    "    matrix = np.zeros((8, 8))\n",
    "    matrix[m,:] = 1\n",
    "    matrix[:,n] = 1\n",
    "    for i in range(-7,8):\n",
    "        if m+i < 8 and m+i >= 0 and n+i < 8 and n+i >= 0:\n",
    "            matrix[m+i,n+i] = 1\n",
    "        if m+i < 8 and m+i >= 0 and n-i < 8 and n-i >= 0:\n",
    "            matrix[m+i,n-i] = 1\n",
    "    matrix[m,n] = 0\n",
    "    \n",
    "    return matrix"
   ]
  },
  {
   "cell_type": "code",
   "execution_count": null,
   "id": "7dace507",
   "metadata": {},
   "outputs": [
    {
     "name": "stdout",
     "output_type": "stream",
     "text": [
      "[[0. 1. 0. 0. 1. 0. 0. 1.]\n",
      " [0. 0. 1. 0. 1. 0. 1. 0.]\n",
      " [0. 0. 0. 1. 1. 1. 0. 0.]\n",
      " [1. 1. 1. 1. 0. 1. 1. 1.]\n",
      " [0. 0. 0. 1. 1. 1. 0. 0.]\n",
      " [0. 0. 1. 0. 1. 0. 1. 0.]\n",
      " [0. 1. 0. 0. 1. 0. 0. 1.]\n",
      " [1. 0. 0. 0. 1. 0. 0. 0.]]\n"
     ]
    }
   ],
   "source": [
    "print(get_moves(3,4))"
   ]
  },
  {
   "cell_type": "code",
   "execution_count": null,
   "id": "aa6b9cb9",
   "metadata": {},
   "outputs": [],
   "source": [
    "def transition_row(m,n):   #this converts the 8x8 matrix into a 64x1 row vector, which represents a row in the transition matrix\n",
    "    \n",
    "    T_row = get_moves(m,n).flatten()\n",
    "    T_row /= sum(T_row)\n",
    "    \n",
    "    return T_row\n",
    "\n",
    "\n",
    "T = []   # We define T as the transtion matrix for all 64 squares on the chessboard, starting from (0,0), (0,1)... to (7,7)\n",
    "\n",
    "for i in range(8):\n",
    "    for j in range(8):\n",
    "        T.append(transition_row(i,j))\n",
    "\n",
    "T = np.array(T)"
   ]
  },
  {
   "cell_type": "code",
   "execution_count": null,
   "id": "e223a0a6",
   "metadata": {},
   "outputs": [],
   "source": [
    "def probability_of_returning(max_number_of_moves):\n",
    "    \n",
    "    start_position = 7 * 8 + 3    # Index of the queen's starting position in the 64x1 array\n",
    "    \n",
    "    init = np.zeros((1,64))       # Here the initial state is given by a 1x64 column vector\n",
    "    init[0][start_position] = 1   # Now we set the standard starting position of the queen, as the initial state\n",
    "\n",
    "    P = 0   #Initialize the probability of returning to starting position\n",
    "    state = init   #Set the state to Initial state\n",
    "\n",
    "    for i in range(1,max_number_of_moves):\n",
    "        \n",
    "        state_i = np.dot(state, T)\n",
    "        \n",
    "        P += i * state_i[0] [start_position]\n",
    "        state_i[0] [start_position] = 0   # Removing cases where the quuen has returned to her starting position\n",
    "\n",
    "        state = state_i   # Change the state to the i th state\n",
    "\n",
    "    return P"
   ]
  },
  {
   "cell_type": "code",
   "execution_count": null,
   "id": "d763d86c",
   "metadata": {},
   "outputs": [],
   "source": [
    "probability_of_returning(100000)"
   ]
  },
  {
   "cell_type": "code",
   "execution_count": null,
   "id": "767ec66a",
   "metadata": {},
   "outputs": [],
   "source": [
    "import matplotlib.pyplot as plt\n",
    "\n",
    "x = [i for i in range(1000)]\n",
    "y = [probability_of_returning(i) for i in x]\n",
    "\n",
    "plt.plot(x, y)\n",
    "plt.xlabel('Max number of moves')\n",
    "plt.ylabel('Average moves to reach initial position')\n",
    "plt.show()"
   ]
  }
 ],
 "metadata": {
  "kernelspec": {
   "display_name": "Python 3",
   "language": "python",
   "name": "python3"
  },
  "language_info": {
   "codemirror_mode": {
    "name": "ipython",
    "version": 3
   },
   "file_extension": ".py",
   "mimetype": "text/x-python",
   "name": "python",
   "nbconvert_exporter": "python",
   "pygments_lexer": "ipython3",
   "version": "3.6.13"
  }
 },
 "nbformat": 4,
 "nbformat_minor": 5
}
